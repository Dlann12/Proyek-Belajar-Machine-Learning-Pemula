{
  "nbformat": 4,
  "nbformat_minor": 0,
  "metadata": {
    "colab": {
      "provenance": []
    },
    "kernelspec": {
      "name": "python3",
      "display_name": "Python 3"
    },
    "language_info": {
      "name": "python"
    }
  },
  "cells": [
    {
      "cell_type": "markdown",
      "source": [
        "# **1. Import Library**"
      ],
      "metadata": {
        "id": "fKADPWcFKlj3"
      }
    },
    {
      "cell_type": "markdown",
      "source": [
        "Pada tahap ini, Anda perlu mengimpor beberapa pustaka (library) Python yang dibutuhkan untuk analisis data dan pembangunan model machine learning."
      ],
      "metadata": {
        "id": "LgA3ERnVn84N"
      }
    },
    {
      "cell_type": "code",
      "source": [
        "import pandas as pd\n",
        "import numpy as np\n",
        "from sklearn.model_selection import train_test_split\n",
        "from sklearn.preprocessing import StandardScaler\n",
        "from sklearn.linear_model import LogisticRegression\n",
        "from sklearn.metrics import accuracy_score, classification_report, confusion_matrix\n",
        "import matplotlib.pyplot as plt\n",
        "import seaborn as sns"
      ],
      "metadata": {
        "id": "gx3j6bX0GW4V"
      },
      "execution_count": 3,
      "outputs": []
    },
    {
      "cell_type": "markdown",
      "source": [
        "# **2. Memuat Dataset dari Hasil Clustering**"
      ],
      "metadata": {
        "id": "f3YIEnAFKrKL"
      }
    },
    {
      "cell_type": "markdown",
      "source": [
        "Memuat dataset hasil clustering dari file CSV ke dalam variabel DataFrame."
      ],
      "metadata": {
        "id": "Ey3ItwTen_7E"
      }
    },
    {
      "cell_type": "code",
      "source": [
        "df = pd.read_csv('/content/dataset_inisiasi.csv')"
      ],
      "metadata": {
        "id": "GHCGNTyrM5fS"
      },
      "execution_count": 14,
      "outputs": []
    },
    {
      "cell_type": "code",
      "source": [
        "df"
      ],
      "metadata": {
        "colab": {
          "base_uri": "https://localhost:8080/",
          "height": 443
        },
        "id": "Gl0uZlqsHacA",
        "outputId": "3084d3c6-2366-432d-b8f2-f2c576e52333"
      },
      "execution_count": 5,
      "outputs": [
        {
          "output_type": "execute_result",
          "data": {
            "text/plain": [
              "      TransactionAmount  TransactionType  Location  Channel  CustomerAge  \\\n",
              "0             -0.971275                1        36        0     1.423718   \n",
              "1              0.269440                1        15        0     1.311287   \n",
              "2             -0.586882                1        23        2    -1.443277   \n",
              "3             -0.387456                1        33        2    -1.049768   \n",
              "4             -0.973468                0         1        2    -1.049768   \n",
              "...                 ...              ...       ...      ...          ...   \n",
              "2507           1.913802                0         7        1    -0.656259   \n",
              "2508          -0.157779                1        40        1     0.186975   \n",
              "2509          -0.921462                1        36        1     0.636700   \n",
              "2510          -0.382420                1        10        2    -1.218415   \n",
              "2511          -0.186763                0        17        2    -1.162199   \n",
              "\n",
              "      CustomerOccupation  TransactionDuration  LoginAttempts  AccountBalance  \\\n",
              "0                      0            -0.552443      -0.206794       -0.000537   \n",
              "1                      0             0.305314      -0.206794        2.216472   \n",
              "2                      3            -0.909842      -0.206794       -1.023534   \n",
              "3                      3            -1.353017      -0.206794        0.885797   \n",
              "4                      3             1.120184      -0.206794        0.593589   \n",
              "...                  ...                  ...            ...             ...   \n",
              "2507                   0            -0.152156      -0.206794        1.942606   \n",
              "2508                   0             0.819969      -0.206794       -1.245986   \n",
              "2509                   2             0.376794      -0.206794       -0.443928   \n",
              "2510                   3            -1.438793      -0.206794       -0.855705   \n",
              "2511                   3            -0.380892      -0.206794       -1.277652   \n",
              "\n",
              "      DaysSinceLastTransaction  Cluster  \n",
              "0                    -0.800526        3  \n",
              "1                    -0.076554        2  \n",
              "2                     0.045675        5  \n",
              "3                    -0.574872        1  \n",
              "4                     0.967094        0  \n",
              "...                        ...      ...  \n",
              "2507                 -0.659492        4  \n",
              "2508                 -0.988571        3  \n",
              "2509                  0.440569        3  \n",
              "2510                 -1.233029        4  \n",
              "2511                 -1.327051        2  \n",
              "\n",
              "[2512 rows x 11 columns]"
            ],
            "text/html": [
              "\n",
              "  <div id=\"df-d01f8ebe-eb3d-4b50-8da6-12b861fd7bc1\" class=\"colab-df-container\">\n",
              "    <div>\n",
              "<style scoped>\n",
              "    .dataframe tbody tr th:only-of-type {\n",
              "        vertical-align: middle;\n",
              "    }\n",
              "\n",
              "    .dataframe tbody tr th {\n",
              "        vertical-align: top;\n",
              "    }\n",
              "\n",
              "    .dataframe thead th {\n",
              "        text-align: right;\n",
              "    }\n",
              "</style>\n",
              "<table border=\"1\" class=\"dataframe\">\n",
              "  <thead>\n",
              "    <tr style=\"text-align: right;\">\n",
              "      <th></th>\n",
              "      <th>TransactionAmount</th>\n",
              "      <th>TransactionType</th>\n",
              "      <th>Location</th>\n",
              "      <th>Channel</th>\n",
              "      <th>CustomerAge</th>\n",
              "      <th>CustomerOccupation</th>\n",
              "      <th>TransactionDuration</th>\n",
              "      <th>LoginAttempts</th>\n",
              "      <th>AccountBalance</th>\n",
              "      <th>DaysSinceLastTransaction</th>\n",
              "      <th>Cluster</th>\n",
              "    </tr>\n",
              "  </thead>\n",
              "  <tbody>\n",
              "    <tr>\n",
              "      <th>0</th>\n",
              "      <td>-0.971275</td>\n",
              "      <td>1</td>\n",
              "      <td>36</td>\n",
              "      <td>0</td>\n",
              "      <td>1.423718</td>\n",
              "      <td>0</td>\n",
              "      <td>-0.552443</td>\n",
              "      <td>-0.206794</td>\n",
              "      <td>-0.000537</td>\n",
              "      <td>-0.800526</td>\n",
              "      <td>3</td>\n",
              "    </tr>\n",
              "    <tr>\n",
              "      <th>1</th>\n",
              "      <td>0.269440</td>\n",
              "      <td>1</td>\n",
              "      <td>15</td>\n",
              "      <td>0</td>\n",
              "      <td>1.311287</td>\n",
              "      <td>0</td>\n",
              "      <td>0.305314</td>\n",
              "      <td>-0.206794</td>\n",
              "      <td>2.216472</td>\n",
              "      <td>-0.076554</td>\n",
              "      <td>2</td>\n",
              "    </tr>\n",
              "    <tr>\n",
              "      <th>2</th>\n",
              "      <td>-0.586882</td>\n",
              "      <td>1</td>\n",
              "      <td>23</td>\n",
              "      <td>2</td>\n",
              "      <td>-1.443277</td>\n",
              "      <td>3</td>\n",
              "      <td>-0.909842</td>\n",
              "      <td>-0.206794</td>\n",
              "      <td>-1.023534</td>\n",
              "      <td>0.045675</td>\n",
              "      <td>5</td>\n",
              "    </tr>\n",
              "    <tr>\n",
              "      <th>3</th>\n",
              "      <td>-0.387456</td>\n",
              "      <td>1</td>\n",
              "      <td>33</td>\n",
              "      <td>2</td>\n",
              "      <td>-1.049768</td>\n",
              "      <td>3</td>\n",
              "      <td>-1.353017</td>\n",
              "      <td>-0.206794</td>\n",
              "      <td>0.885797</td>\n",
              "      <td>-0.574872</td>\n",
              "      <td>1</td>\n",
              "    </tr>\n",
              "    <tr>\n",
              "      <th>4</th>\n",
              "      <td>-0.973468</td>\n",
              "      <td>0</td>\n",
              "      <td>1</td>\n",
              "      <td>2</td>\n",
              "      <td>-1.049768</td>\n",
              "      <td>3</td>\n",
              "      <td>1.120184</td>\n",
              "      <td>-0.206794</td>\n",
              "      <td>0.593589</td>\n",
              "      <td>0.967094</td>\n",
              "      <td>0</td>\n",
              "    </tr>\n",
              "    <tr>\n",
              "      <th>...</th>\n",
              "      <td>...</td>\n",
              "      <td>...</td>\n",
              "      <td>...</td>\n",
              "      <td>...</td>\n",
              "      <td>...</td>\n",
              "      <td>...</td>\n",
              "      <td>...</td>\n",
              "      <td>...</td>\n",
              "      <td>...</td>\n",
              "      <td>...</td>\n",
              "      <td>...</td>\n",
              "    </tr>\n",
              "    <tr>\n",
              "      <th>2507</th>\n",
              "      <td>1.913802</td>\n",
              "      <td>0</td>\n",
              "      <td>7</td>\n",
              "      <td>1</td>\n",
              "      <td>-0.656259</td>\n",
              "      <td>0</td>\n",
              "      <td>-0.152156</td>\n",
              "      <td>-0.206794</td>\n",
              "      <td>1.942606</td>\n",
              "      <td>-0.659492</td>\n",
              "      <td>4</td>\n",
              "    </tr>\n",
              "    <tr>\n",
              "      <th>2508</th>\n",
              "      <td>-0.157779</td>\n",
              "      <td>1</td>\n",
              "      <td>40</td>\n",
              "      <td>1</td>\n",
              "      <td>0.186975</td>\n",
              "      <td>0</td>\n",
              "      <td>0.819969</td>\n",
              "      <td>-0.206794</td>\n",
              "      <td>-1.245986</td>\n",
              "      <td>-0.988571</td>\n",
              "      <td>3</td>\n",
              "    </tr>\n",
              "    <tr>\n",
              "      <th>2509</th>\n",
              "      <td>-0.921462</td>\n",
              "      <td>1</td>\n",
              "      <td>36</td>\n",
              "      <td>1</td>\n",
              "      <td>0.636700</td>\n",
              "      <td>2</td>\n",
              "      <td>0.376794</td>\n",
              "      <td>-0.206794</td>\n",
              "      <td>-0.443928</td>\n",
              "      <td>0.440569</td>\n",
              "      <td>3</td>\n",
              "    </tr>\n",
              "    <tr>\n",
              "      <th>2510</th>\n",
              "      <td>-0.382420</td>\n",
              "      <td>1</td>\n",
              "      <td>10</td>\n",
              "      <td>2</td>\n",
              "      <td>-1.218415</td>\n",
              "      <td>3</td>\n",
              "      <td>-1.438793</td>\n",
              "      <td>-0.206794</td>\n",
              "      <td>-0.855705</td>\n",
              "      <td>-1.233029</td>\n",
              "      <td>4</td>\n",
              "    </tr>\n",
              "    <tr>\n",
              "      <th>2511</th>\n",
              "      <td>-0.186763</td>\n",
              "      <td>0</td>\n",
              "      <td>17</td>\n",
              "      <td>2</td>\n",
              "      <td>-1.162199</td>\n",
              "      <td>3</td>\n",
              "      <td>-0.380892</td>\n",
              "      <td>-0.206794</td>\n",
              "      <td>-1.277652</td>\n",
              "      <td>-1.327051</td>\n",
              "      <td>2</td>\n",
              "    </tr>\n",
              "  </tbody>\n",
              "</table>\n",
              "<p>2512 rows × 11 columns</p>\n",
              "</div>\n",
              "    <div class=\"colab-df-buttons\">\n",
              "\n",
              "  <div class=\"colab-df-container\">\n",
              "    <button class=\"colab-df-convert\" onclick=\"convertToInteractive('df-d01f8ebe-eb3d-4b50-8da6-12b861fd7bc1')\"\n",
              "            title=\"Convert this dataframe to an interactive table.\"\n",
              "            style=\"display:none;\">\n",
              "\n",
              "  <svg xmlns=\"http://www.w3.org/2000/svg\" height=\"24px\" viewBox=\"0 -960 960 960\">\n",
              "    <path d=\"M120-120v-720h720v720H120Zm60-500h600v-160H180v160Zm220 220h160v-160H400v160Zm0 220h160v-160H400v160ZM180-400h160v-160H180v160Zm440 0h160v-160H620v160ZM180-180h160v-160H180v160Zm440 0h160v-160H620v160Z\"/>\n",
              "  </svg>\n",
              "    </button>\n",
              "\n",
              "  <style>\n",
              "    .colab-df-container {\n",
              "      display:flex;\n",
              "      gap: 12px;\n",
              "    }\n",
              "\n",
              "    .colab-df-convert {\n",
              "      background-color: #E8F0FE;\n",
              "      border: none;\n",
              "      border-radius: 50%;\n",
              "      cursor: pointer;\n",
              "      display: none;\n",
              "      fill: #1967D2;\n",
              "      height: 32px;\n",
              "      padding: 0 0 0 0;\n",
              "      width: 32px;\n",
              "    }\n",
              "\n",
              "    .colab-df-convert:hover {\n",
              "      background-color: #E2EBFA;\n",
              "      box-shadow: 0px 1px 2px rgba(60, 64, 67, 0.3), 0px 1px 3px 1px rgba(60, 64, 67, 0.15);\n",
              "      fill: #174EA6;\n",
              "    }\n",
              "\n",
              "    .colab-df-buttons div {\n",
              "      margin-bottom: 4px;\n",
              "    }\n",
              "\n",
              "    [theme=dark] .colab-df-convert {\n",
              "      background-color: #3B4455;\n",
              "      fill: #D2E3FC;\n",
              "    }\n",
              "\n",
              "    [theme=dark] .colab-df-convert:hover {\n",
              "      background-color: #434B5C;\n",
              "      box-shadow: 0px 1px 3px 1px rgba(0, 0, 0, 0.15);\n",
              "      filter: drop-shadow(0px 1px 2px rgba(0, 0, 0, 0.3));\n",
              "      fill: #FFFFFF;\n",
              "    }\n",
              "  </style>\n",
              "\n",
              "    <script>\n",
              "      const buttonEl =\n",
              "        document.querySelector('#df-d01f8ebe-eb3d-4b50-8da6-12b861fd7bc1 button.colab-df-convert');\n",
              "      buttonEl.style.display =\n",
              "        google.colab.kernel.accessAllowed ? 'block' : 'none';\n",
              "\n",
              "      async function convertToInteractive(key) {\n",
              "        const element = document.querySelector('#df-d01f8ebe-eb3d-4b50-8da6-12b861fd7bc1');\n",
              "        const dataTable =\n",
              "          await google.colab.kernel.invokeFunction('convertToInteractive',\n",
              "                                                    [key], {});\n",
              "        if (!dataTable) return;\n",
              "\n",
              "        const docLinkHtml = 'Like what you see? Visit the ' +\n",
              "          '<a target=\"_blank\" href=https://colab.research.google.com/notebooks/data_table.ipynb>data table notebook</a>'\n",
              "          + ' to learn more about interactive tables.';\n",
              "        element.innerHTML = '';\n",
              "        dataTable['output_type'] = 'display_data';\n",
              "        await google.colab.output.renderOutput(dataTable, element);\n",
              "        const docLink = document.createElement('div');\n",
              "        docLink.innerHTML = docLinkHtml;\n",
              "        element.appendChild(docLink);\n",
              "      }\n",
              "    </script>\n",
              "  </div>\n",
              "\n",
              "\n",
              "<div id=\"df-3e5656c7-09ca-42dd-8fe6-c06cd7a76490\">\n",
              "  <button class=\"colab-df-quickchart\" onclick=\"quickchart('df-3e5656c7-09ca-42dd-8fe6-c06cd7a76490')\"\n",
              "            title=\"Suggest charts\"\n",
              "            style=\"display:none;\">\n",
              "\n",
              "<svg xmlns=\"http://www.w3.org/2000/svg\" height=\"24px\"viewBox=\"0 0 24 24\"\n",
              "     width=\"24px\">\n",
              "    <g>\n",
              "        <path d=\"M19 3H5c-1.1 0-2 .9-2 2v14c0 1.1.9 2 2 2h14c1.1 0 2-.9 2-2V5c0-1.1-.9-2-2-2zM9 17H7v-7h2v7zm4 0h-2V7h2v10zm4 0h-2v-4h2v4z\"/>\n",
              "    </g>\n",
              "</svg>\n",
              "  </button>\n",
              "\n",
              "<style>\n",
              "  .colab-df-quickchart {\n",
              "      --bg-color: #E8F0FE;\n",
              "      --fill-color: #1967D2;\n",
              "      --hover-bg-color: #E2EBFA;\n",
              "      --hover-fill-color: #174EA6;\n",
              "      --disabled-fill-color: #AAA;\n",
              "      --disabled-bg-color: #DDD;\n",
              "  }\n",
              "\n",
              "  [theme=dark] .colab-df-quickchart {\n",
              "      --bg-color: #3B4455;\n",
              "      --fill-color: #D2E3FC;\n",
              "      --hover-bg-color: #434B5C;\n",
              "      --hover-fill-color: #FFFFFF;\n",
              "      --disabled-bg-color: #3B4455;\n",
              "      --disabled-fill-color: #666;\n",
              "  }\n",
              "\n",
              "  .colab-df-quickchart {\n",
              "    background-color: var(--bg-color);\n",
              "    border: none;\n",
              "    border-radius: 50%;\n",
              "    cursor: pointer;\n",
              "    display: none;\n",
              "    fill: var(--fill-color);\n",
              "    height: 32px;\n",
              "    padding: 0;\n",
              "    width: 32px;\n",
              "  }\n",
              "\n",
              "  .colab-df-quickchart:hover {\n",
              "    background-color: var(--hover-bg-color);\n",
              "    box-shadow: 0 1px 2px rgba(60, 64, 67, 0.3), 0 1px 3px 1px rgba(60, 64, 67, 0.15);\n",
              "    fill: var(--button-hover-fill-color);\n",
              "  }\n",
              "\n",
              "  .colab-df-quickchart-complete:disabled,\n",
              "  .colab-df-quickchart-complete:disabled:hover {\n",
              "    background-color: var(--disabled-bg-color);\n",
              "    fill: var(--disabled-fill-color);\n",
              "    box-shadow: none;\n",
              "  }\n",
              "\n",
              "  .colab-df-spinner {\n",
              "    border: 2px solid var(--fill-color);\n",
              "    border-color: transparent;\n",
              "    border-bottom-color: var(--fill-color);\n",
              "    animation:\n",
              "      spin 1s steps(1) infinite;\n",
              "  }\n",
              "\n",
              "  @keyframes spin {\n",
              "    0% {\n",
              "      border-color: transparent;\n",
              "      border-bottom-color: var(--fill-color);\n",
              "      border-left-color: var(--fill-color);\n",
              "    }\n",
              "    20% {\n",
              "      border-color: transparent;\n",
              "      border-left-color: var(--fill-color);\n",
              "      border-top-color: var(--fill-color);\n",
              "    }\n",
              "    30% {\n",
              "      border-color: transparent;\n",
              "      border-left-color: var(--fill-color);\n",
              "      border-top-color: var(--fill-color);\n",
              "      border-right-color: var(--fill-color);\n",
              "    }\n",
              "    40% {\n",
              "      border-color: transparent;\n",
              "      border-right-color: var(--fill-color);\n",
              "      border-top-color: var(--fill-color);\n",
              "    }\n",
              "    60% {\n",
              "      border-color: transparent;\n",
              "      border-right-color: var(--fill-color);\n",
              "    }\n",
              "    80% {\n",
              "      border-color: transparent;\n",
              "      border-right-color: var(--fill-color);\n",
              "      border-bottom-color: var(--fill-color);\n",
              "    }\n",
              "    90% {\n",
              "      border-color: transparent;\n",
              "      border-bottom-color: var(--fill-color);\n",
              "    }\n",
              "  }\n",
              "</style>\n",
              "\n",
              "  <script>\n",
              "    async function quickchart(key) {\n",
              "      const quickchartButtonEl =\n",
              "        document.querySelector('#' + key + ' button');\n",
              "      quickchartButtonEl.disabled = true;  // To prevent multiple clicks.\n",
              "      quickchartButtonEl.classList.add('colab-df-spinner');\n",
              "      try {\n",
              "        const charts = await google.colab.kernel.invokeFunction(\n",
              "            'suggestCharts', [key], {});\n",
              "      } catch (error) {\n",
              "        console.error('Error during call to suggestCharts:', error);\n",
              "      }\n",
              "      quickchartButtonEl.classList.remove('colab-df-spinner');\n",
              "      quickchartButtonEl.classList.add('colab-df-quickchart-complete');\n",
              "    }\n",
              "    (() => {\n",
              "      let quickchartButtonEl =\n",
              "        document.querySelector('#df-3e5656c7-09ca-42dd-8fe6-c06cd7a76490 button');\n",
              "      quickchartButtonEl.style.display =\n",
              "        google.colab.kernel.accessAllowed ? 'block' : 'none';\n",
              "    })();\n",
              "  </script>\n",
              "</div>\n",
              "\n",
              "  <div id=\"id_61e5542e-b5c3-469d-8a77-5a16519a83f4\">\n",
              "    <style>\n",
              "      .colab-df-generate {\n",
              "        background-color: #E8F0FE;\n",
              "        border: none;\n",
              "        border-radius: 50%;\n",
              "        cursor: pointer;\n",
              "        display: none;\n",
              "        fill: #1967D2;\n",
              "        height: 32px;\n",
              "        padding: 0 0 0 0;\n",
              "        width: 32px;\n",
              "      }\n",
              "\n",
              "      .colab-df-generate:hover {\n",
              "        background-color: #E2EBFA;\n",
              "        box-shadow: 0px 1px 2px rgba(60, 64, 67, 0.3), 0px 1px 3px 1px rgba(60, 64, 67, 0.15);\n",
              "        fill: #174EA6;\n",
              "      }\n",
              "\n",
              "      [theme=dark] .colab-df-generate {\n",
              "        background-color: #3B4455;\n",
              "        fill: #D2E3FC;\n",
              "      }\n",
              "\n",
              "      [theme=dark] .colab-df-generate:hover {\n",
              "        background-color: #434B5C;\n",
              "        box-shadow: 0px 1px 3px 1px rgba(0, 0, 0, 0.15);\n",
              "        filter: drop-shadow(0px 1px 2px rgba(0, 0, 0, 0.3));\n",
              "        fill: #FFFFFF;\n",
              "      }\n",
              "    </style>\n",
              "    <button class=\"colab-df-generate\" onclick=\"generateWithVariable('df')\"\n",
              "            title=\"Generate code using this dataframe.\"\n",
              "            style=\"display:none;\">\n",
              "\n",
              "  <svg xmlns=\"http://www.w3.org/2000/svg\" height=\"24px\"viewBox=\"0 0 24 24\"\n",
              "       width=\"24px\">\n",
              "    <path d=\"M7,19H8.4L18.45,9,17,7.55,7,17.6ZM5,21V16.75L18.45,3.32a2,2,0,0,1,2.83,0l1.4,1.43a1.91,1.91,0,0,1,.58,1.4,1.91,1.91,0,0,1-.58,1.4L9.25,21ZM18.45,9,17,7.55Zm-12,3A5.31,5.31,0,0,0,4.9,8.1,5.31,5.31,0,0,0,1,6.5,5.31,5.31,0,0,0,4.9,4.9,5.31,5.31,0,0,0,6.5,1,5.31,5.31,0,0,0,8.1,4.9,5.31,5.31,0,0,0,12,6.5,5.46,5.46,0,0,0,6.5,12Z\"/>\n",
              "  </svg>\n",
              "    </button>\n",
              "    <script>\n",
              "      (() => {\n",
              "      const buttonEl =\n",
              "        document.querySelector('#id_61e5542e-b5c3-469d-8a77-5a16519a83f4 button.colab-df-generate');\n",
              "      buttonEl.style.display =\n",
              "        google.colab.kernel.accessAllowed ? 'block' : 'none';\n",
              "\n",
              "      buttonEl.onclick = () => {\n",
              "        google.colab.notebook.generateWithVariable('df');\n",
              "      }\n",
              "      })();\n",
              "    </script>\n",
              "  </div>\n",
              "\n",
              "    </div>\n",
              "  </div>\n"
            ],
            "application/vnd.google.colaboratory.intrinsic+json": {
              "type": "dataframe",
              "variable_name": "df",
              "summary": "{\n  \"name\": \"df\",\n  \"rows\": 2512,\n  \"fields\": [\n    {\n      \"column\": \"TransactionAmount\",\n      \"properties\": {\n        \"dtype\": \"number\",\n        \"std\": 1.0001991040338287,\n        \"min\": -1.0186566361508262,\n        \"max\": 5.555266112570064,\n        \"num_unique_values\": 2455,\n        \"samples\": [\n          -0.5921918766538481,\n          1.7950240971370768,\n          -0.9540770995464076\n        ],\n        \"semantic_type\": \"\",\n        \"description\": \"\"\n      }\n    },\n    {\n      \"column\": \"TransactionType\",\n      \"properties\": {\n        \"dtype\": \"number\",\n        \"std\": 0,\n        \"min\": 0,\n        \"max\": 1,\n        \"num_unique_values\": 2,\n        \"samples\": [\n          0,\n          1\n        ],\n        \"semantic_type\": \"\",\n        \"description\": \"\"\n      }\n    },\n    {\n      \"column\": \"Location\",\n      \"properties\": {\n        \"dtype\": \"number\",\n        \"std\": 12,\n        \"min\": 0,\n        \"max\": 42,\n        \"num_unique_values\": 43,\n        \"samples\": [\n          31,\n          38\n        ],\n        \"semantic_type\": \"\",\n        \"description\": \"\"\n      }\n    },\n    {\n      \"column\": \"Channel\",\n      \"properties\": {\n        \"dtype\": \"number\",\n        \"std\": 0,\n        \"min\": 0,\n        \"max\": 2,\n        \"num_unique_values\": 3,\n        \"samples\": [\n          0,\n          2\n        ],\n        \"semantic_type\": \"\",\n        \"description\": \"\"\n      }\n    },\n    {\n      \"column\": \"CustomerAge\",\n      \"properties\": {\n        \"dtype\": \"number\",\n        \"std\": 1.0001991040338287,\n        \"min\": -1.49949295554867,\n        \"max\": 1.9858742688222288,\n        \"num_unique_values\": 63,\n        \"samples\": [\n          1.5923650660706756,\n          1.817227467642992\n        ],\n        \"semantic_type\": \"\",\n        \"description\": \"\"\n      }\n    },\n    {\n      \"column\": \"CustomerOccupation\",\n      \"properties\": {\n        \"dtype\": \"number\",\n        \"std\": 1,\n        \"min\": 0,\n        \"max\": 3,\n        \"num_unique_values\": 4,\n        \"samples\": [\n          3,\n          1\n        ],\n        \"semantic_type\": \"\",\n        \"description\": \"\"\n      }\n    },\n    {\n      \"column\": \"TransactionDuration\",\n      \"properties\": {\n        \"dtype\": \"number\",\n        \"std\": 1.0001991040338285,\n        \"min\": -1.5674564567156437,\n        \"max\": 2.5783720825119185,\n        \"num_unique_values\": 288,\n        \"samples\": [\n          0.2624264847365218,\n          -1.1814655237530776\n        ],\n        \"semantic_type\": \"\",\n        \"description\": \"\"\n      }\n    },\n    {\n      \"column\": \"LoginAttempts\",\n      \"properties\": {\n        \"dtype\": \"number\",\n        \"std\": 1.0001991040338383,\n        \"min\": -0.2067936485059295,\n        \"max\": 6.431744946342571,\n        \"num_unique_values\": 5,\n        \"samples\": [\n          3.1124756489183207,\n          4.772110297630446\n        ],\n        \"semantic_type\": \"\",\n        \"description\": \"\"\n      }\n    },\n    {\n      \"column\": \"AccountBalance\",\n      \"properties\": {\n        \"dtype\": \"number\",\n        \"std\": 1.000199104033831,\n        \"min\": -1.2853435000548166,\n        \"max\": 2.5290429011249755,\n        \"num_unique_values\": 2510,\n        \"samples\": [\n          -0.7936592948981471,\n          -0.3751719749333147\n        ],\n        \"semantic_type\": \"\",\n        \"description\": \"\"\n      }\n    },\n    {\n      \"column\": \"DaysSinceLastTransaction\",\n      \"properties\": {\n        \"dtype\": \"number\",\n        \"std\": 1.000199104033828,\n        \"min\": -1.7313467660936628,\n        \"max\": 1.691065391807454,\n        \"num_unique_values\": 261,\n        \"samples\": [\n          0.1114905496992462,\n          1.3807917621076276\n        ],\n        \"semantic_type\": \"\",\n        \"description\": \"\"\n      }\n    },\n    {\n      \"column\": \"Cluster\",\n      \"properties\": {\n        \"dtype\": \"number\",\n        \"std\": 1,\n        \"min\": 0,\n        \"max\": 5,\n        \"num_unique_values\": 6,\n        \"samples\": [\n          3,\n          2\n        ],\n        \"semantic_type\": \"\",\n        \"description\": \"\"\n      }\n    }\n  ]\n}"
            }
          },
          "metadata": {},
          "execution_count": 5
        }
      ]
    },
    {
      "cell_type": "markdown",
      "source": [
        "# **3. Data Splitting**"
      ],
      "metadata": {
        "id": "KkPem5eWL2UP"
      }
    },
    {
      "cell_type": "markdown",
      "source": [
        "Tahap Data Splitting bertujuan untuk memisahkan dataset menjadi dua bagian: data latih (training set) dan data uji (test set)."
      ],
      "metadata": {
        "id": "YYj1rl_JNI9Y"
      }
    },
    {
      "cell_type": "code",
      "source": [
        "from sklearn.model_selection import train_test_split\n",
        "from sklearn.ensemble import RandomForestClassifier\n",
        "from sklearn.linear_model import LogisticRegression\n",
        "from sklearn.metrics import classification_report\n",
        "# Memisahkan fitur (X) dan label target (y)\n",
        "X = df.drop(columns=[\"Cluster\"])  # Fitur\n",
        "y = df[\"Cluster\"]  # Target (label fraud/non-fraud berdasarkan cluster)\n",
        "# Membagi dataset menjadi training dan testing set (80% train, 20% test)\n",
        "X_train, X_test, y_train, y_test = train_test_split(X, y, test_size=0.2, random_state=42, stratify=y)"
      ],
      "metadata": {
        "id": "me7kh8M5G0S3"
      },
      "execution_count": 6,
      "outputs": []
    },
    {
      "cell_type": "markdown",
      "source": [
        "# **4. Membangun Model Klasifikasi**\n"
      ],
      "metadata": {
        "id": "IVPbB03CMhTT"
      }
    },
    {
      "cell_type": "markdown",
      "source": [
        "## **a. Membangun Model Klasifikasi**"
      ],
      "metadata": {
        "id": "Ned1pL9zMmBK"
      }
    },
    {
      "cell_type": "markdown",
      "source": [
        "Setelah memilih algoritma klasifikasi yang sesuai, langkah selanjutnya adalah melatih model menggunakan data latih.\n",
        "\n",
        "Berikut adalah rekomendasi tahapannya.\n",
        "1. Pilih algoritma klasifikasi yang sesuai, seperti Logistic Regression, Decision Tree, Random Forest, atau K-Nearest Neighbors (KNN).\n",
        "2. Latih model menggunakan data latih."
      ],
      "metadata": {
        "id": "WAWzPOE4Nkti"
      }
    },
    {
      "cell_type": "code",
      "source": [
        "# Inisialisasi model RandomForestClassifier\n",
        "model = RandomForestClassifier(random_state=42)\n",
        "# Latih model\n",
        "model.fit(X_train, y_train)\n",
        "# Prediksi pada data uji\n",
        "y_pred = model.predict(X_test)"
      ],
      "metadata": {
        "id": "RrNlxxmNNEnH"
      },
      "execution_count": 7,
      "outputs": []
    },
    {
      "cell_type": "code",
      "source": [
        "# Inisiasi model Decision Tree\n",
        "from sklearn.tree import DecisionTreeClassifier\n",
        "dt_model = DecisionTreeClassifier(random_state=42)\n",
        "# Latih model Decision Tree\n",
        "dt_model.fit(X_train, y_train)\n",
        "# Prediksi dengan model Decision Tree\n",
        "y_pred_dt = dt_model.predict(X_test)"
      ],
      "metadata": {
        "id": "8btD8XBgL65Q"
      },
      "execution_count": 8,
      "outputs": []
    },
    {
      "cell_type": "markdown",
      "source": [
        "Pada proyek klasifikasi ini, digunakan dua algoritma machine learning, yaitu **Decision Tree** dan **Random Forest**. Berikut adalah penjelasan masing-masing algoritma:  \n",
        "\n",
        "### **1. Decision Tree**  \n",
        "Decision Tree merupakan algoritma pembelajaran terawasi yang digunakan untuk tugas klasifikasi maupun regresi. Algoritma ini bekerja dengan membagi dataset ke dalam subset yang lebih kecil berdasarkan fitur yang paling informatif. Struktur pohon keputusan terdiri dari:  \n",
        "- **Node Akar (Root Node):** Titik awal yang memuat keseluruhan data.  \n",
        "- **Node Daun (Leaf Node):** Node yang menunjukkan hasil prediksi akhir.  \n",
        "- **Cabang (Branch):** Penghubung antara node yang menunjukkan kondisi atau aturan.  \n",
        "\n",
        "Keunggulan Decision Tree adalah interpretasi yang mudah dan kecepatan dalam membangun model. Namun, algoritma ini rentan terhadap overfitting, terutama pada data yang kompleks atau berisik.  \n",
        "\n",
        "### **2. Random Forest**  \n",
        "Random Forest merupakan pengembangan dari Decision Tree dengan melakukan ensemble learning, yaitu membentuk beberapa pohon keputusan secara acak dan menggabungkan hasil prediksi dari masing-masing pohon untuk menghasilkan prediksi akhir. Proses pembentukan Random Forest meliputi:  \n",
        "- **Pembentukan Banyak Pohon:** Membangun beberapa pohon keputusan dari subset data yang berbeda.  \n",
        "- **Voting Mayoritas:** Menggabungkan hasil prediksi dari semua pohon dan memilih kelas yang paling banyak diprediksi.  \n",
        "\n",
        "Keunggulan Random Forest adalah lebih tahan terhadap overfitting dan lebih akurat dibandingkan Decision Tree, terutama pada dataset yang kompleks. Namun, kelemahannya adalah membutuhkan lebih banyak sumber daya komputasi.  \n",
        "\n",
        "### **Kesimpulan**  \n",
        "Kedua algoritma ini saling melengkapi, di mana Decision Tree cocok untuk interpretasi yang cepat, sementara Random Forest lebih andal dalam menghasilkan prediksi yang stabil. Pemilihan algoritma bergantung pada kompleksitas data dan kebutuhan interpretasi.\n"
      ],
      "metadata": {
        "id": "seYoHNY3XU1y"
      }
    },
    {
      "cell_type": "markdown",
      "source": [
        "## **b. Evaluasi Model Klasifikasi**"
      ],
      "metadata": {
        "id": "ergzChZFEL-O"
      }
    },
    {
      "cell_type": "markdown",
      "source": [
        "Berikut adalah **rekomendasi** tahapannya.\n",
        "1. Lakukan prediksi menggunakan data uji.\n",
        "2. Hitung metrik evaluasi seperti Accuracy dan F1-Score (Opsional: Precision dan Recall).\n",
        "3. Buat confusion matrix untuk melihat detail prediksi benar dan salah."
      ],
      "metadata": {
        "id": "zOm68u-7NpLT"
      }
    },
    {
      "cell_type": "code",
      "source": [
        "# Evaluasi model  RANDOM FOREST\n",
        "print(classification_report(y_test, y_pred))\n",
        "print(confusion_matrix(y_test, y_pred))\n",
        "accuracy = accuracy_score(y_test, y_pred)\n",
        "print(f\"Accuracy: {accuracy}\")"
      ],
      "metadata": {
        "id": "tMq4QAssNLip",
        "colab": {
          "base_uri": "https://localhost:8080/"
        },
        "outputId": "5c2e54e7-b95b-4d54-9090-8859515c3f85"
      },
      "execution_count": 9,
      "outputs": [
        {
          "output_type": "stream",
          "name": "stdout",
          "text": [
            "              precision    recall  f1-score   support\n",
            "\n",
            "           0       1.00      1.00      1.00        80\n",
            "           1       1.00      1.00      1.00        80\n",
            "           2       1.00      1.00      1.00        96\n",
            "           3       1.00      1.00      1.00        81\n",
            "           4       1.00      1.00      1.00        81\n",
            "           5       1.00      1.00      1.00        85\n",
            "\n",
            "    accuracy                           1.00       503\n",
            "   macro avg       1.00      1.00      1.00       503\n",
            "weighted avg       1.00      1.00      1.00       503\n",
            "\n",
            "[[80  0  0  0  0  0]\n",
            " [ 0 80  0  0  0  0]\n",
            " [ 0  0 96  0  0  0]\n",
            " [ 0  0  0 81  0  0]\n",
            " [ 0  0  0  0 81  0]\n",
            " [ 0  0  0  0  0 85]]\n",
            "Accuracy: 1.0\n"
          ]
        }
      ]
    },
    {
      "cell_type": "code",
      "source": [
        "# Evaluasi model Decision Tree\n",
        "accuracy_dt = accuracy_score(y_test, y_pred_dt)\n",
        "print(f\"Akurasi Decision Tree: {accuracy_dt}\")\n",
        "print(classification_report(y_test, y_pred_dt))"
      ],
      "metadata": {
        "colab": {
          "base_uri": "https://localhost:8080/"
        },
        "id": "4IgW3Y6eMQmg",
        "outputId": "c9f2abc4-1555-4c03-b94b-ef2153f3332e"
      },
      "execution_count": 10,
      "outputs": [
        {
          "output_type": "stream",
          "name": "stdout",
          "text": [
            "Akurasi Decision Tree: 1.0\n",
            "              precision    recall  f1-score   support\n",
            "\n",
            "           0       1.00      1.00      1.00        80\n",
            "           1       1.00      1.00      1.00        80\n",
            "           2       1.00      1.00      1.00        96\n",
            "           3       1.00      1.00      1.00        81\n",
            "           4       1.00      1.00      1.00        81\n",
            "           5       1.00      1.00      1.00        85\n",
            "\n",
            "    accuracy                           1.00       503\n",
            "   macro avg       1.00      1.00      1.00       503\n",
            "weighted avg       1.00      1.00      1.00       503\n",
            "\n"
          ]
        }
      ]
    },
    {
      "cell_type": "code",
      "source": [
        "# Confusion matrix for Random Forest\n",
        "cm_rf = confusion_matrix(y_test, y_pred)\n",
        "plt.figure(figsize=(8, 6))\n",
        "sns.heatmap(cm_rf, annot=True, fmt=\"d\", cmap=\"Blues\",\n",
        "            xticklabels=['Cluster 0', 'Cluster 1', 'Cluster 2'],\n",
        "            yticklabels=['Cluster 0', 'Cluster 1', 'Cluster 2']) # Sesuaikan label jika jumlah cluster berbeda\n",
        "plt.title('Confusion Matrix - Random Forest')\n",
        "plt.xlabel('Predicted Label')\n",
        "plt.ylabel('True Label')\n",
        "plt.show()\n",
        "\n",
        "# Confusion matrix for Decision Tree\n",
        "cm_dt = confusion_matrix(y_test, y_pred_dt)\n",
        "plt.figure(figsize=(8, 6))\n",
        "sns.heatmap(cm_dt, annot=True, fmt=\"d\", cmap=\"Blues\",\n",
        "            xticklabels=['Cluster 0', 'Cluster 1', 'Cluster 2'],\n",
        "            yticklabels=['Cluster 0', 'Cluster 1', 'Cluster 2']) # Sesuaikan label jika jumlah cluster berbeda\n",
        "plt.title('Confusion Matrix - Decision Tree')\n",
        "plt.xlabel('Predicted Label')\n",
        "plt.ylabel('True Label')\n",
        "plt.show()\n"
      ],
      "metadata": {
        "colab": {
          "base_uri": "https://localhost:8080/",
          "height": 1000
        },
        "id": "s0fCW24zNoq9",
        "outputId": "a7a5d99b-2b8f-4564-c1bb-f6dd18b3447d"
      },
      "execution_count": 11,
      "outputs": [
        {
          "output_type": "display_data",
          "data": {
            "text/plain": [
              "<Figure size 800x600 with 2 Axes>"
            ],
            "image/png": "[encoded data removed]"
          },
          "metadata": {}
        },
        {
          "output_type": "display_data",
          "data": {
            "text/plain": [
              "<Figure size 800x600 with 2 Axes>"
            ],
            "image/png": "[encoded data removed]"
          },
          "metadata": {}
        }
      ]
    },
    {
      "cell_type": "markdown",
      "source": [
        "Tulis hasil evaluasi algoritma yang digunakan, jika Anda menggunakan 2 algoritma, maka bandingkan hasilnya."
      ],
      "metadata": {
        "id": "H4_9OwrsXZlz"
      }
    },
    {
      "cell_type": "markdown",
      "source": [
        "## **c. Tuning Model Klasifikasi (Optional)**"
      ],
      "metadata": {
        "id": "ph9yIYDXEPuB"
      }
    },
    {
      "cell_type": "markdown",
      "source": [
        "Gunakan GridSearchCV, RandomizedSearchCV, atau metode lainnya untuk mencari kombinasi hyperparameter terbaik"
      ],
      "metadata": {
        "id": "-Bikx3LINv5e"
      }
    },
    {
      "cell_type": "code",
      "source": [
        "#Type your code here"
      ],
      "metadata": {
        "id": "winbFzb8NL95"
      },
      "execution_count": 12,
      "outputs": []
    },
    {
      "cell_type": "markdown",
      "source": [
        "## **d. Evaluasi Model Klasifikasi setelah Tuning (Optional)**"
      ],
      "metadata": {
        "id": "hE7pqlEPEYzI"
      }
    },
    {
      "cell_type": "markdown",
      "source": [
        "Berikut adalah rekomendasi tahapannya.\n",
        "1. Gunakan model dengan hyperparameter terbaik.\n",
        "2. Hitung ulang metrik evaluasi untuk melihat apakah ada peningkatan performa."
      ],
      "metadata": {
        "id": "feaPESoeN0zz"
      }
    },
    {
      "cell_type": "code",
      "source": [
        "#Type your code here"
      ],
      "metadata": {
        "id": "HTXZRvEeNMb1"
      },
      "execution_count": 13,
      "outputs": []
    },
    {
      "cell_type": "markdown",
      "source": [
        "## **e. Analisis Hasil Evaluasi Model Klasifikasi**"
      ],
      "metadata": {
        "id": "ZRsOdm4uEgAW"
      }
    },
    {
      "cell_type": "markdown",
      "source": [
        "## Evaluasi Model dan Rekomendasi\n",
        "\n",
        "### **1. Bandingkan hasil evaluasi sebelum dan setelah tuning (jika dilakukan):**  \n",
        "Pada kasus ini, tidak dadanya proses tuning pada model **Decision Tree** maupun **Random Forest**.  \n",
        "\n",
        "---\n",
        "\n",
        "### **2. Identifikasi kelemahan model:**  \n",
        "\n",
        "**Precision atau Recall rendah untuk kelas tertentu:**  \n",
        "- Pada hasil evaluasi kedua model (**Decision Tree** dan **Random Forest**), baik **precision** maupun **recall** pada semua kelas menunjukkan nilai **1.0**.  \n",
        "- Artinya, tidak ada kelemahan pada kelas tertentu dalam hal prediksi.  \n",
        "\n",
        "**Apakah model mengalami overfitting atau underfitting?**  \n",
        "- Kedua model memiliki akurasi sempurna (100%), yang dapat menjadi indikasi **overfitting**, terutama pada model **Decision Tree**.  \n",
        "- **Overfitting** terjadi ketika model terlalu baik dalam menangani data pelatihan sehingga kehilangan kemampuan generalisasi pada data baru.  \n",
        "- **Random Forest** cenderung lebih tahan terhadap overfitting karena merupakan gabungan dari beberapa pohon keputusan (**ensemble learning**). Namun, tetap perlu dilakukan validasi silang atau pengujian dengan data baru untuk memastikan stabilitas model.  \n",
        "\n",
        "---\n",
        "\n",
        "### **3. Rekomendasi tindakan lanjutan:**  \n",
        "\n",
        "**Validasi dengan Data Baru:**  \n",
        "- Lakukan uji coba model pada data baru atau data dari distribusi yang berbeda untuk memastikan tidak terjadi overfitting.  \n",
        "- Gunakan teknik **validasi silang (cross-validation)** untuk memastikan model dapat digeneralisasi dengan baik.  \n",
        "\n",
        "**Tuning Hyperparameter:**  \n",
        "- Jika akurasi model pada data baru menurun, lakukan tuning pada hyperparameter seperti:  \n",
        "  - **Decision Tree:** Mengatur kedalaman pohon (**max_depth**), ukuran minimum sampel pada node daun (**min_samples_leaf**).  \n",
        "  - **Random Forest:** Menambah jumlah pohon (**n_estimators**), mengatur fitur maksimum (**max_features**).  \n",
        "\n",
        "**Mengumpulkan Data Tambahan:**  \n",
        "- Jika model menunjukkan **overfitting**, mengumpulkan lebih banyak data dari berbagai kondisi atau skenario dapat membantu meningkatkan kemampuan generalisasi.  \n",
        "\n",
        "**Menggunakan Algoritma Alternatif:**  \n",
        "- Jika kedua model tetap menunjukkan masalah overfitting pada data baru, pertimbangkan untuk mencoba algoritma lain seperti **Gradient Boosting**, **SVM**, atau **Neural Networks** yang mungkin lebih sesuai untuk data dengan karakteristik tertentu.  \n"
      ],
      "metadata": {
        "id": "Hm3BhSi6N4_l"
      }
    }
  ]
}